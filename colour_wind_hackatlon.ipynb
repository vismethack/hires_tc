{
 "cells": [
  {
   "cell_type": "code",
   "execution_count": 1,
   "id": "optical-brighton",
   "metadata": {},
   "outputs": [],
   "source": [
    "import numpy as np\n",
    "from matplotlib.colors import LinearSegmentedColormap\n",
    "import metview as mv\n",
    "import matplotlib.pyplot as plt"
   ]
  },
  {
   "cell_type": "code",
   "execution_count": 5,
   "id": "robust-bones",
   "metadata": {},
   "outputs": [
    {
     "data": {
      "image/png": "[encoded data removed]",
      "text/plain": [
       "<Figure size 1080x144 with 1 Axes>"
      ]
     },
     "metadata": {
      "needs_background": "light"
     },
     "output_type": "display_data"
    }
   ],
   "source": [
    "\n",
    "\n",
    "cm1 = LinearSegmentedColormap.from_list(\"blue_white\", [\"#1d5a93\", \"w\"])\n",
    "cm2 = LinearSegmentedColormap.from_list(\"white_orange\", [\"w\", \"orange\"])\n",
    "cm3 = LinearSegmentedColormap.from_list(\"orange_red\", [\"orange\", \"red\"])\n",
    "\n",
    "# minimal value\n",
    "vmin = 0\n",
    "# first split\n",
    "split1 = 15\n",
    "# second split\n",
    "split2 = 25\n",
    "# maximum value\n",
    "vmax = 33\n",
    "\n",
    "# factor to transform limits to number of colors\n",
    "multiplier = 10\n",
    "# total number of colors used in the colormap\n",
    "ncolors = (vmax - vmin) * multiplier\n",
    "# get number of individual colors for each colormap\n",
    "ncolors1 = (split1 - vmin) * multiplier\n",
    "ncolors2 = (split2 - split1) * multiplier\n",
    "ncolors3 = ncolors - ncolors1 - ncolors2\n",
    "\n",
    "# evaluate colors\n",
    "c1 = cm1(np.linspace(0, 1, ncolors1))\n",
    "c2 = cm2(np.linspace(0, 1, ncolors2))\n",
    "c3 = cm3(np.linspace(0, 1, ncolors3))\n",
    "\n",
    "# setup triple-linear colormap\n",
    "cmap = LinearSegmentedColormap.from_list(\"triple_linear\", [*c1, *c2, *c3])\n",
    "\n",
    "#----------------------------------------------------------------------\n",
    "# %%  quick check of resulting colormap\n",
    "x = np.linspace(vmin, vmax, ncolors)\n",
    "\n",
    "f, ax = plt.subplots(figsize=(15, 2))\n",
    "s = ax.scatter(x, [0.5]*len(x), c=x, cmap=cmap)\n",
    "for i in [vmin, split1, split2, vmax]:\n",
    "    ax.plot([i]*2, [0, 1], \"k:\")\n",
    "f.tight_layout()"
   ]
  },
  {
   "cell_type": "code",
   "execution_count": 2,
   "id": "appropriate-suspension",
   "metadata": {},
   "outputs": [],
   "source": [
    "data_rf=mv.retrieve(\n",
    "            Class     =\"od\",\n",
    "            stream    =\"oper\",\n",
    "            expver    =1,\n",
    "            date      =-1,\n",
    "            time      =0,\n",
    "            step      =72,\n",
    "            number    =0,\n",
    "            type      =\"fc\",\n",
    "            levtype   =\"sfc\",\n",
    "            levellist =0,\n",
    "            param     =[\"i10fg\"]\n",
    "  )"
   ]
  },
  {
   "cell_type": "code",
   "execution_count": 6,
   "id": "supreme-gender",
   "metadata": {},
   "outputs": [],
   "source": [
    "collist = []\n",
    "\n",
    "for c in [c1,c2,c3]:\n",
    "    for i in c:\n",
    "        collist.append(\"RGB(\"+str(i[0])+\",\"+str(i[1])+\",\"+str(i[2])+\")\")\n",
    "#print(clist)"
   ]
  },
  {
   "cell_type": "code",
   "execution_count": 14,
   "id": "rational-panic",
   "metadata": {},
   "outputs": [
    {
     "name": "stdout",
     "output_type": "stream",
     "text": [
      "[ 0.          0.10030395  0.2006079   0.30091185  0.40121581  0.50151976\n",
      "  0.60182371  0.70212766  0.80243161  0.90273556  1.00303951  1.10334347\n",
      "  1.20364742  1.30395137  1.40425532  1.50455927  1.60486322  1.70516717\n",
      "  1.80547112  1.90577508  2.00607903  2.10638298  2.20668693  2.30699088\n",
      "  2.40729483  2.50759878  2.60790274  2.70820669  2.80851064  2.90881459\n",
      "  3.00911854  3.10942249  3.20972644  3.3100304   3.41033435  3.5106383\n",
      "  3.61094225  3.7112462   3.81155015  3.9118541   4.01215805  4.11246201\n",
      "  4.21276596  4.31306991  4.41337386  4.51367781  4.61398176  4.71428571\n",
      "  4.81458967  4.91489362  5.01519757  5.11550152  5.21580547  5.31610942\n",
      "  5.41641337  5.51671733  5.61702128  5.71732523  5.81762918  5.91793313\n",
      "  6.01823708  6.11854103  6.21884498  6.31914894  6.41945289  6.51975684\n",
      "  6.62006079  6.72036474  6.82066869  6.92097264  7.0212766   7.12158055\n",
      "  7.2218845   7.32218845  7.4224924   7.52279635  7.6231003   7.72340426\n",
      "  7.82370821  7.92401216  8.02431611  8.12462006  8.22492401  8.32522796\n",
      "  8.42553191  8.52583587  8.62613982  8.72644377  8.82674772  8.92705167\n",
      "  9.02735562  9.12765957  9.22796353  9.32826748  9.42857143  9.52887538\n",
      "  9.62917933  9.72948328  9.82978723  9.93009119 10.03039514 10.13069909\n",
      " 10.23100304 10.33130699 10.43161094 10.53191489 10.63221884 10.7325228\n",
      " 10.83282675 10.9331307  11.03343465 11.1337386  11.23404255 11.3343465\n",
      " 11.43465046 11.53495441 11.63525836 11.73556231 11.83586626 11.93617021\n",
      " 12.03647416 12.13677812 12.23708207 12.33738602 12.43768997 12.53799392\n",
      " 12.63829787 12.73860182 12.83890578 12.93920973 13.03951368 13.13981763\n",
      " 13.24012158 13.34042553 13.44072948 13.54103343 13.64133739 13.74164134\n",
      " 13.84194529 13.94224924 14.04255319 14.14285714 14.24316109 14.34346505\n",
      " 14.443769   14.54407295 14.6443769  14.74468085 14.8449848  14.94528875\n",
      " 15.04559271 15.14589666 15.24620061 15.34650456 15.44680851 15.54711246\n",
      " 15.64741641 15.74772036 15.84802432 15.94832827 16.04863222 16.14893617\n",
      " 16.24924012 16.34954407 16.44984802 16.55015198 16.65045593 16.75075988\n",
      " 16.85106383 16.95136778 17.05167173 17.15197568 17.25227964 17.35258359\n",
      " 17.45288754 17.55319149 17.65349544 17.75379939 17.85410334 17.95440729\n",
      " 18.05471125 18.1550152  18.25531915 18.3556231  18.45592705 18.556231\n",
      " 18.65653495 18.75683891 18.85714286 18.95744681 19.05775076 19.15805471\n",
      " 19.25835866 19.35866261 19.45896657 19.55927052 19.65957447 19.75987842\n",
      " 19.86018237 19.96048632 20.06079027 20.16109422 20.26139818 20.36170213\n",
      " 20.46200608 20.56231003 20.66261398 20.76291793 20.86322188 20.96352584\n",
      " 21.06382979 21.16413374 21.26443769 21.36474164 21.46504559 21.56534954\n",
      " 21.6656535  21.76595745 21.8662614  21.96656535 22.0668693  22.16717325\n",
      " 22.2674772  22.36778116 22.46808511 22.56838906 22.66869301 22.76899696\n",
      " 22.86930091 22.96960486 23.06990881 23.17021277 23.27051672 23.37082067\n",
      " 23.47112462 23.57142857 23.67173252 23.77203647 23.87234043 23.97264438\n",
      " 24.07294833 24.17325228 24.27355623 24.37386018 24.47416413 24.57446809\n",
      " 24.67477204 24.77507599 24.87537994 24.97568389 25.07598784 25.17629179\n",
      " 25.27659574 25.3768997  25.47720365 25.5775076  25.67781155 25.7781155\n",
      " 25.87841945 25.9787234  26.07902736 26.17933131 26.27963526 26.37993921\n",
      " 26.48024316 26.58054711 26.68085106 26.78115502 26.88145897 26.98176292\n",
      " 27.08206687 27.18237082 27.28267477 27.38297872 27.48328267 27.58358663\n",
      " 27.68389058 27.78419453 27.88449848 27.98480243 28.08510638 28.18541033\n",
      " 28.28571429 28.38601824 28.48632219 28.58662614 28.68693009 28.78723404\n",
      " 28.88753799 28.98784195 29.0881459  29.18844985 29.2887538  29.38905775\n",
      " 29.4893617  29.58966565 29.6899696  29.79027356 29.89057751 29.99088146\n",
      " 30.09118541 30.19148936 30.29179331 30.39209726 30.49240122 30.59270517\n",
      " 30.69300912 30.79331307 30.89361702 30.99392097 31.09422492 31.19452888\n",
      " 31.29483283 31.39513678 31.49544073 31.59574468 31.69604863 31.79635258\n",
      " 31.89665653 31.99696049 32.09726444 32.19756839 32.29787234 32.39817629\n",
      " 32.49848024 32.59878419 32.69908815 32.7993921  32.89969605 33.        ]\n"
     ]
    }
   ],
   "source": [
    "clist = list(x)\n",
    "print(x)\n",
    "contour= mv.mcont(\n",
    "    LEGEND                      = \"on\",\n",
    "    CONTOUR                     = 'Off',\n",
    "    CONTOUR_LEVEL_SELECTION_TYPE = 'LEVEL_LIST',\n",
    "    CONTOUR_LINE_COLOUR         = 'BLACK',\n",
    "    CONTOUR_SHADE               = 'ON',\n",
    "    CONTOUR_SHADE_COLOUR_METHOD = 'LIST',\n",
    "    contour_shade_technique     = 'cell_shading',\n",
    "    contour_shade_cell_resolution = 100,\n",
    "    contour_shade_cell_method   = 'nearest',\n",
    "    CONTOUR_HIGHLIGHT           = 'OFF',\n",
    "    CONTOUR_HILO                = 'OFF',\n",
    "    GRIB_SCALING_OF_DERIVED_FIELDS = 'OFF',\n",
    "    CONTOUR_LABEL               = 'OFF',\n",
    "    CONTOUR_LABEL_COLOUR        = 'BLACK',\n",
    "    CONTOUR_LEVEL_LIST          =  clist,\n",
    "    CONTOUR_MIN_VALUE           =  clist[0],\n",
    "    CONTOUR_MAX_VALUE           =  clist[-1],\n",
    "    CONTOUR_SHADE_COLOUR_LIST   = list(collist)\n",
    ")\n",
    "\n",
    "coastlines = mv.mcoast(\n",
    "    map_coastline_land_shade        = \"on\",\n",
    "    map_coastline_land_shade_colour = \"grey\"\n",
    "    )\n",
    "\n",
    "# Importing : /diag/rubbish/Geographical View\n",
    "\n",
    "gview = mv.geoview(\n",
    "    map_area_definition = \"corners\",\n",
    "    area                = [60,-110,0,0],  \n",
    "    #area                = [50,-60,30,-40],       \n",
    "    coastlines          = coastlines\n",
    "    )\n",
    "legend = mv.mlegend(\n",
    "           legend_text_font_size     = 0.5,\n",
    "           )\n"
   ]
  },
  {
   "cell_type": "code",
   "execution_count": 15,
   "id": "common-juice",
   "metadata": {},
   "outputs": [
    {
     "name": "stdout",
     "output_type": "stream",
     "text": [
      "CPU times: user 2 µs, sys: 0 ns, total: 2 µs\n",
      "Wall time: 3.1 µs\n"
     ]
    }
   ],
   "source": [
    "%time\n",
    "psfile = \"test_cell\"\n",
    "\n",
    "mv.setoutput(mv.png_output(output_name = psfile))\n",
    "mv.plot(gview,data_rf,contour,legend)"
   ]
  }
 ],
 "metadata": {
  "kernelspec": {
   "display_name": "Python 3",
   "language": "python",
   "name": "python3"
  },
  "language_info": {
   "codemirror_mode": {
    "name": "ipython",
    "version": 3
   },
   "file_extension": ".py",
   "mimetype": "text/x-python",
   "name": "python",
   "nbconvert_exporter": "python",
   "pygments_lexer": "ipython3",
   "version": "3.8.8"
  }
 },
 "nbformat": 4,
 "nbformat_minor": 5
}
